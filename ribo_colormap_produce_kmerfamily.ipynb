{
 "cells": [
  {
   "cell_type": "code",
   "execution_count": 98,
   "metadata": {},
   "outputs": [],
   "source": [
    "family = 'RF00174' \n",
    "sequence = 'GUACUAUAUGCGACACUGUGUAUCUGUAAAGGCGAUGACGAUGCAGGAAGUCGGUGCAAAGCCGGCGCGGUCCCGCCACUGUAAUCGGGGAGCGACCCUCGUAGGCCACGGCCAUUGGCUGGAAGGCGAGGCAAGCGGUGAUCCGAGAGCCAGGAAACUCGCGUCAUCGCGUCCUGCUAAC'\n"
   ]
  },
  {
   "cell_type": "code",
   "execution_count": 99,
   "metadata": {},
   "outputs": [],
   "source": [
    "kmer_norm_col = pd.read_csv('kmer_family.csv', index_col = 0)\n",
    "kmer = kmer_norm_col.loc[family]\n",
    "\n",
    "kmerlist = [0 for i in range(len(sequence))]\n",
    "for feature in featurenames:\n",
    "    p = 0\n",
    "    step = len(feature) -1\n",
    "    while p != (len(sequence) - step):\n",
    "        if feature == sequence[p: p + step + 1]:\n",
    "            for q in range(p, p+step+1):\n",
    "                kmerlist[q] = kmerlist[q] + kmer[feature]\n",
    "            p = p + 1\n",
    "        else:\n",
    "            p = p + 1\n",
    "\n",
    "            \n",
    "for i in range(0, len(sequence)):\n",
    "    kmerlist[i] = (kmerlist[i] - min(kmerlist))/(max(kmerlist)-min(kmerlist))"
   ]
  },
  {
   "cell_type": "code",
   "execution_count": 100,
   "metadata": {},
   "outputs": [
    {
     "name": "stdout",
     "output_type": "stream",
     "text": [
      "[0.1519098005193257, 0.1519098005193257, 0.168767154529692, 0.2596139389848647, 0.13399073738908054, 0.25180775276170386, 0.20658447071104297, 0.16096096830653117, 0.2742590149336931, 0.3263379623674996, 0.1698959628064298, 0.2351464916656953, 0.4039136461953873, 0.5814358879063756, 0.7450499051679802, 0.6721730974041563, 0.6598479424355341, 0.8117577429548598, 0.4719658173420002, 0.30835180008039553, 0.1519098005193257, 0.23290755944960104, 0.23290755944960104, 0.28498650688340754, 0.44142850644447734, 0.6481437256932551, 0.3567430293118041, 0.41438519275004954, 0.5504963140859827, 0.46976514347464826, 0.33365402213871503, 0.3311074644781951, 0.2576666218565572, 0.1622696839018713, 0.2800866992744946, 0.2742590149336931, 0.3187116834629411, 0.4026429286342732, 0.24037324473240185, 0.23387577410458116, 0.35169278947720445, 0.32884893826777994, 0.3809278857015864, 0.3943818489469464, 0.3619911406214177, 0.19209517781498794, 0.1622696839018713, 0.2983808052378044, 0.37887904744168643, 0.502266030338906, 0.36476077585800504, 0.332852903621409, 0.22759023199655684, 0.2719117288020554, 0.42835372836312524, 0.44256220548321085, 0.4848704569198588, 0.48772807211872926, 0.45394323064823267, 0.33911312067748933, 0.47847808348342635, 0.48201450361766707, 0.27547608414187014, 0.10558012133544036, 0.27547608414187014, 0.1698959628064298, 0.1698959628064298, 0.2898978910891595, 0.12000192828272971, 0.2719117288020554, 0.41583863134656524, 0.48371882815736944, 0.6536147909637993, 0.3397919256128596, 0.6676188282087034, 0.8375147910151332, 0.8375147910151332, 1.0, 1.0, 0.8452511312005725, 1.0, 0.7971488519720678, 0.5025200982214698, 0.7920786102643663, 0.2895585120428966, 0.09608123257682037, 0.3750817536144279, 0.5580010420752151, 0.5580010420752151, 0.5454772848722605, 0.4922857648954381, 0.5048095220983927, 0.27900052103760753, 0.26647676383465296, 0.5436235733881316, 0.5916231003133118, 0.5934768117974407, 0.4243207778006559, 0.1453202567630484, 0.1453202567630484, 0.33906605843591137, 0.33906605843591137, 0.45954675390770755, 0.45954675390770755, 0.7720900192783171, 0.9614884055395749, 0.8173527874690024, 0.8154990759848735, 0.536498554947266, 0.0, 0.27900052103760753, 0.5580010420752151, 0.5580010420752151, 0.4724778005036839, 0.3576191874962761, 0.42104853882185156, 0.42104853882185156, 0.5032718344605726, 0.6181304474679803, 0.5960365572220244, 0.875037078259632, 0.6056066902650257, 0.7689968620561226, 0.8724647173528275, 0.6489451401689652, 0.7021366601457877, 0.4231361391081801, 0.26647676383465296, 0.6364213829660107, 0.3981525064692636, 0.6422056799594783, 1.0, 0.8518888843721075, 0.7952744387758117, 0.6211587577625993, 0.5905653820685092, 0.3507222848898422, 0.6162394526717891, 0.889678272969071, 0.6980392534180291, 0.6305281621501941, 0.47482698036098037, 0.5658537250240414, 0.5658537250240414, 0.30095987769402094, 0.626894471974216, 0.626894471974216, 0.9065138686057299, 0.9198435416652109, 0.8908634210775238, 0.8908634210775238, 0.834248975481228, 0.24034002809621213, 0.283624800633027, 0.6844300930283168, 0.6387085699797025, 0.6957867664815603, 0.5747965746359167, 0.11691308573876902, 0.11691308573876902, 0.29695447369250794, 0.29695447369250794, 0.2655171677819469, 0.4015320205113257, 0.4329693264218867, 0.7411612080251966, 0.44420673433268854, 0.10226415257386288, 0.3992186262663708, 0.29695447369250794, 0.2655171677819469, 0.5170813420524865, 0.5485186479630474, 0.8454731216555553, 0.7030455263074921, 1.0, 0.9596024700759297, 0.464587078850873, 0.6400378363413847, 1.0, 0.9933558852247484]\n"
     ]
    }
   ],
   "source": [
    "print(kmerlist)\n",
    "mkdir('./ribo_colormap/%s' % family)\n",
    "\n",
    "with open(check_filename_available('./ribo_colormap/%s/%s.txt' % (family, family)), 'a', encoding=\"UTF-8\") as ribo:\n",
    "    for element in kmerlist:\n",
    "        ribo.write('%.2f' % element + '\\n')"
   ]
  },
  {
   "cell_type": "code",
   "execution_count": 101,
   "metadata": {},
   "outputs": [],
   "source": [
    "b = {'CCCGC', 'AGUCAG', 'ACCUGC', 'GGAAGG', 'GGGAAG', 'CACUG', 'GCCACU'}"
   ]
  },
  {
   "cell_type": "code",
   "execution_count": 102,
   "metadata": {},
   "outputs": [
    {
     "name": "stdout",
     "output_type": "stream",
     "text": [
      "CACUG\n",
      "13\n",
      "CACUG\n",
      "76\n",
      "GGAAGG\n",
      "120\n",
      "GCCACU\n",
      "74\n",
      "CCCGC\n",
      "71\n"
     ]
    }
   ],
   "source": [
    "for feature in b:\n",
    "    index = 0\n",
    "    while index < len(sequence)-1:\n",
    "        if sequence.find(feature, index, len(sequence)-1) != -1:\n",
    "            print(feature)\n",
    "            print(sequence.find(feature, index, len(sequence)-1))\n",
    "            index = sequence.find(feature, index, len(sequence)-1)+1\n",
    "        else:\n",
    "            index = len(sequence)"
   ]
  },
  {
   "cell_type": "code",
   "execution_count": 84,
   "metadata": {},
   "outputs": [
    {
     "data": {
      "text/plain": [
       "'GUCGGUAGCAUUCUGUGCGUUGGUCCAGGGAACCCGGUGAGAGUCCGGGGCUGUCCCGCAACGGUGUGACCUUUUCGCCCCUCGGCGCCGCGGCGCCCCCGCGGGCGAGGUCGAGCCCGAUACCUGCCGAC'"
      ]
     },
     "execution_count": 84,
     "metadata": {},
     "output_type": "execute_result"
    }
   ],
   "source": [
    "sequence"
   ]
  },
  {
   "cell_type": "code",
   "execution_count": 1,
   "metadata": {},
   "outputs": [],
   "source": [
    "from sklearn.model_selection import train_test_split\n",
    "import numpy as np # linear algebra\n",
    "import pandas as pd # data processing, CSV file I/O (e.g. pd.read_csv)\n",
    "import joblib, os\n",
    "\n",
    "\n",
    "def mkdir(path):\n",
    "    path = path.strip()\n",
    "    path = path.rstrip(\"\\\\\")\n",
    "    isExists = os.path.exists(path)\n",
    "\n",
    "    if not isExists:\n",
    "        os.makedirs(path)\n",
    "        return True\n",
    "    else:\n",
    "        return False\n",
    "\n",
    "    \n",
    "def check_filename_available(filename):\n",
    "    n=[0]\n",
    "    def check_meta(file_name):\n",
    "        file_name_new=file_name\n",
    "        if os.path.isfile(file_name):\n",
    "            file_name_new=file_name[:file_name.rfind('.')]+'_'+str(n[0])+file_name[file_name.rfind('.'):]\n",
    "            n[0]+=1\n",
    "        if os.path.isfile(file_name_new):\n",
    "            file_name_new=check_meta(file_name)\n",
    "        return file_name_new\n",
    "    return_name=check_meta(filename)\n",
    "    return return_name\n",
    "\n",
    "\n",
    "def preprocess(countpath, testsize = 0.2, randomstate = 1):\n",
    "    x = pd.read_csv('%s' % countpath, index_col=0).T\n",
    "\n",
    "    # get feature names\n",
    "    featurenames = np.array(x.index)\n",
    "    \n",
    "    # get label names\n",
    "    x = x.T\n",
    "    y = list(np.array(x.index))\n",
    "    label = sorted(list(set(y)), key = y.index)\n",
    "    \n",
    "    df = x\n",
    "    df['target'] = y\n",
    "\n",
    "    for classname in label:\n",
    "        count_temp = len(df[df.target == classname])\n",
    "        print(\"Proportion of family {0}: {1:.2f}%\".format(classname, (count_temp / (len(df.target)) * 100)))\n",
    "\n",
    "\n",
    "    y = df.target.values\n",
    "    x= df.drop(['target'], axis=1)\n",
    "    \n",
    "    \n",
    "    x = x.dropna(axis=1, how='any')  # drop all rows that have any NaN value\n",
    "    x_train, x_test, y_train, y_test = train_test_split(x, y, test_size = testsize, random_state = randomstate)\n",
    "\n",
    "    return x_train, y_train, x_test, y_test, featurenames, label, x\n",
    "\n",
    "\n",
    "def counting(label, y_train):\n",
    "    counting = {}\n",
    "    for i in label:\n",
    "        count = 0\n",
    "        for j in y_train:\n",
    "            if i == j:\n",
    "                count = count+1        \n",
    "        counting[i] = count\n",
    "    print(counting)\n",
    "    \n",
    "    return counting\n",
    "\n",
    "def heat(label, featurenames, x_train, counting):\n",
    "    heat = pd.DataFrame(0, index=np.arange(len(label)), columns=np.arange(featurenames.size))\n",
    "    heat.index = label\n",
    "    heat.columns = featurenames\n",
    "    for i in range(0, len(x_train.index)):\n",
    "        for j in range(0, len(x_train.columns)):\n",
    "            heat.loc[x_train.index[i], x_train.columns[j]] = heat.loc[x_train.index[i], x_train.columns[j]] + x_train.iloc[i, j]\n",
    "\n",
    "    return heat"
   ]
  },
  {
   "cell_type": "code",
   "execution_count": 26,
   "metadata": {},
   "outputs": [],
   "source": [
    "if __name__ == '__main__':\n",
    "    countpath = './156_new_selected_156.csv'\n",
    "\n",
    "    x_train, y_train, x_test, y_test, featurenames, label, dataframe = preprocess(countpath, 0.3, 3)\n",
    "    \n",
    "    heat = heat(label, featurenames, x_train, y_train)\n",
    "\n",
    "count = counting(label, y_train)\n",
    "\n",
    "heat_norm = heat\n",
    "for i in range(0, len(heat_norm.index)):\n",
    "    for j in range(0, len(heat_norm.columns)):\n",
    "        heat_norm.iloc[i, j] = heat_norm.iloc[i, j] / count[heat_norm.index[i]]\n",
    "\n",
    "heat_norm_col = heat_norm\n",
    "heat_norm_col=(heat_norm_col-heat_norm_col.min())/(heat_norm_col.max()-heat_norm_col.min())\n",
    "\n",
    "heat_norm_col.to_csv('kmer_family.csv')"
   ]
  },
  {
   "cell_type": "code",
   "execution_count": null,
   "metadata": {},
   "outputs": [],
   "source": []
  }
 ],
 "metadata": {
  "kernelspec": {
   "display_name": "Python 3",
   "language": "python",
   "name": "python3"
  },
  "language_info": {
   "codemirror_mode": {
    "name": "ipython",
    "version": 3
   },
   "file_extension": ".py",
   "mimetype": "text/x-python",
   "name": "python",
   "nbconvert_exporter": "python",
   "pygments_lexer": "ipython3",
   "version": "3.7.3"
  }
 },
 "nbformat": 4,
 "nbformat_minor": 2
}
