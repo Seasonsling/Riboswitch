{
 "cells": [
  {
   "cell_type": "code",
   "execution_count": 2,
   "metadata": {},
   "outputs": [],
   "source": [
    "from sklearn.model_selection import train_test_split #for data splitting\n",
    "import numpy as np # linear algebra\n",
    "import pandas as pd # data processing, CSV file I/O (e.g. pd.read_csv)\n",
    "from sklearn.ensemble import RandomForestClassifier"
   ]
  },
  {
   "cell_type": "code",
   "execution_count": 3,
   "metadata": {},
   "outputs": [],
   "source": [
    "def preprocess(countpath, testsize = 0.2):\n",
    "    x = pd.read_csv('%s' % countpath, index_col=0).T\n",
    "\n",
    "    # get feature names\n",
    "    featurenames = np.array(x.index)\n",
    "\n",
    "    # get label names\n",
    "    x = x.T\n",
    "    y = list(np.array(x.index))\n",
    "    label = sorted(list(set(y)), key = y.index)\n",
    "    \n",
    "    df = x\n",
    "    df['target'] = y\n",
    "\n",
    "    for classname in label:\n",
    "        count_temp = len(df[df.target == classname])\n",
    "        print(\"Proportion of family {0}: {1:.2f}%\".format(classname, (count_temp / (len(df.target)) * 100)))\n",
    "\n",
    "\n",
    "    y = df.target.values\n",
    "    x= df.drop(['target'], axis=1)\n",
    "    \n",
    "    # Normalize\n",
    "#     x= x.apply(lambda x :(x-np.min(x))/(np.max(x)-np.min(x)))\n",
    "    \n",
    "    x = x.dropna(axis=1, how='any')  # drop all rows that have any NaN value\n",
    "    x_train, x_test, y_train, y_test = train_test_split(x, y, test_size = testsize, random_state = 5)\n",
    "\n",
    "    return x_train, y_train, x_test, y_test, featurenames, label, x"
   ]
  },
  {
   "cell_type": "code",
   "execution_count": null,
   "metadata": {},
   "outputs": [],
   "source": [
    "x_train, y_train, x_test, y_test, feature_names, _, x = preprocess('156_new_selected_156.csv', 0.3)"
   ]
  },
  {
   "cell_type": "code",
   "execution_count": 46,
   "metadata": {
    "scrolled": true
   },
   "outputs": [],
   "source": [
    "dict = {}\n",
    "for i in label:\n",
    "    if i == 'RF00168' or i == 'RF00167':\n",
    "        dict[i] = 7\n",
    "    elif i == 'RF01054' or i == 'RF00522':\n",
    "        dict[i] = 150\n",
    "    elif i == 'RF00634' or i == 'RF00521' or i == 'RF00234':\n",
    "        dict[i] = 30\n",
    "    elif i == 'RF01055' or i == 'RF01057' or i == 'RF01063':\n",
    "        dict[i] = 15\n",
    "    elif i == 'RF00050' or i == 'RF00162' or i == 'RF01051' or i == 'RF00162':\n",
    "        dict[i] = 3\n",
    "    else:\n",
    "        dict[i] = 1\n",
    "\n",
    "model = RandomForestClassifier(n_jobs=48, n_estimators = 10000, max_depth = 20, class_weight = dict)\n",
    "model.fit(x_train, y_train)\n",
    "\n",
    "importances = model.feature_importances_\n",
    "indices = np.argsort(importances)[::-1]\n",
    "\n",
    "\n",
    "final_labels = []\n",
    "for f in range(x_train.shape[1]):\n",
    "    final_labels.append(feature_names[indices[f]])\n",
    "    print(\"%2d) %-*s %f\" % (f + 1, 30, final_labels[f], importances[indices[f]]))\n",
    "print(final_labels)\n",
    "\n",
    "\n",
    "for i in {20, 50, 100}:\n",
    "    final = final_labels[0:i]\n",
    "    x_temp = x\n",
    "    for j in feature_names:\n",
    "        flag = 0\n",
    "        for k in final:\n",
    "            if j == k:\n",
    "                flag = 1\n",
    "        if flag == 0:\n",
    "            x_temp = x_temp.drop([j.upper()], axis = 1)\n",
    "#     print(x_temp)\n",
    "    x_temp.to_csv('156_new_selected_%s.csv' % i, index=True)"
   ]
  }
 ],
 "metadata": {
  "kernelspec": {
   "display_name": "Python 3",
   "language": "python",
   "name": "python3"
  },
  "language_info": {
   "codemirror_mode": {
    "name": "ipython",
    "version": 3
   },
   "file_extension": ".py",
   "mimetype": "text/x-python",
   "name": "python",
   "nbconvert_exporter": "python",
   "pygments_lexer": "ipython3",
   "version": "3.7.6"
  },
  "pycharm": {
   "stem_cell": {
    "cell_type": "raw",
    "metadata": {
     "collapsed": false
    },
    "source": []
   }
  }
 },
 "nbformat": 4,
 "nbformat_minor": 2
}
